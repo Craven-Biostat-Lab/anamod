{
 "cells": [
  {
   "cell_type": "code",
   "execution_count": null,
   "metadata": {},
   "outputs": [],
   "source": [
    "%%javascript\n",
    "// Disables truncation of output window\n",
    "IPython.OutputArea.prototype._should_scroll = function(lines) {\n",
    "    return false;\n",
    "}"
   ]
  },
  {
   "cell_type": "code",
   "execution_count": null,
   "metadata": {},
   "outputs": [],
   "source": [
    "# Config\n",
    "output_dir = \"trials1\"\n",
    "trial_type = \"DEFAULT\"\n",
    "analysis_type = \"temporal\"\n",
    "num_trials = 100\n",
    "options = \"-output_dir %s\" % output_dir\n",
    "options += \" -type %s\" % trial_type\n",
    "options += \" -analysis_type %s\" % analysis_type\n",
    "options += \" -num_trials %d\" % num_trials\n",
    "options += \" -summarize_only 1\"  # enable to collate results of completed trials (sets of multiple simulations)\n",
    "# options += \" -analyze_results_only 1\"  # enable to collate results of completed simulations"
   ]
  },
  {
   "cell_type": "code",
   "execution_count": null,
   "metadata": {},
   "outputs": [],
   "source": [
    "from anamod.simulation import run_trials\n",
    "outputs = run_trials.main(options)"
   ]
  },
  {
   "cell_type": "code",
   "execution_count": null,
   "metadata": {},
   "outputs": [],
   "source": [
    "import numpy as np\n",
    "import plotly.express as px\n",
    "import plotly.graph_objects as go\n",
    "\n",
    "from anamod.constants import FDR, POWER, TEMPORAL_FDR, TEMPORAL_POWER, AVERAGE_WINDOW_FDR, AVERAGE_WINDOW_POWER\n",
    "from anamod.constants import TEMPORAL, WINDOW_OVERLAP\n",
    "\n",
    "GROUPS = {\"Overall Feature Importance Detection\": (FDR, POWER),\n",
    "          \"Temporal Feature Importance Detection\": (TEMPORAL_FDR, TEMPORAL_POWER),\n",
    "          \"Average Window Detection\": (AVERAGE_WINDOW_FDR, AVERAGE_WINDOW_POWER)}\n",
    "\n",
    "\n",
    "def visualize(data):\n",
    "    \"\"\"Visualize outputs\"\"\"\n",
    "    if analysis_type == TEMPORAL:\n",
    "        # Window overlap histogram\n",
    "        fig = go.Figure()\n",
    "        for param, values in data[WINDOW_OVERLAP].items():\n",
    "            fig.add_trace(go.Histogram(x=values, name=param))\n",
    "        fig.update_traces(histnorm=\"probability\", xbins=dict(start=0.0, end=1.0), opacity=0.6)\n",
    "        fig.update_layout(title={\"text\": \"Histogram of Average Window Overlap\", \"xanchor\": \"center\", \"x\": 0.5},\n",
    "                          xaxis_title=\"Average Window Overlap\", yaxis_title=\"Probability\", template=\"none\")\n",
    "        fig.show()\n",
    "    for name, group in GROUPS.items():\n",
    "        fig = go.Figure()\n",
    "        for cat in group:\n",
    "            x, y = ([], [])\n",
    "            for param, values in data[cat].items():\n",
    "                y.extend(values)\n",
    "                x.extend([param] * len(values))\n",
    "            fig.add_trace(go.Violin(x=x, y=y,\n",
    "                                    legendgroup=cat, scalegroup=cat, name=cat))\n",
    "        fig.update_traces(box_visible=True, meanline_visible=True, opacity=0.6, points=\"all\")\n",
    "        fig.update_layout(title={\"text\": name, \"xanchor\": \"center\", \"x\": 0.5},\n",
    "                          xaxis_title=trial_type, yaxis_title=\"Value\",\n",
    "                          violinmode=\"group\", template=\"none\")\n",
    "        fig.show()\n",
    "\n",
    "visualize(outputs)"
   ]
  }
 ],
 "metadata": {
  "kernelspec": {
   "display_name": "Python 3",
   "language": "python",
   "name": "python3"
  },
  "language_info": {
   "codemirror_mode": {
    "name": "ipython",
    "version": 3
   },
   "file_extension": ".py",
   "mimetype": "text/x-python",
   "name": "python",
   "nbconvert_exporter": "python",
   "pygments_lexer": "ipython3",
   "version": "3.7.6"
  }
 },
 "nbformat": 4,
 "nbformat_minor": 4
}
